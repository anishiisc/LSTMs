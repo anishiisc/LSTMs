{
 "cells": [
  {
   "cell_type": "markdown",
   "id": "a7f79310",
   "metadata": {},
   "source": [
    "# Next Word Prediction Using  LSTM's\n",
    "\n",
    "In this example we will work on the following text \n",
    "\n",
    "**Project Gutenberg - Sherlock Holmes**\n",
    "\n",
    "\n",
    "Data Download link \n",
    "\n",
    "https://statso.io/next-word-prediction-case-study/\n",
    "\n",
    "\n",
    "#### Reference Text  from NVIDIA - Learning Deep Learning \n",
    "\n",
    "https://www.nvidia.com/en-in/training/books/\n",
    "\n",
    "\n",
    "#### Primary Code reference \n",
    "https://medium.com/@ilaslanduzgun/next-word-prediction-using-lstm-with-tensorflow-e2a8f63b613c\n",
    "\n",
    "\n",
    "#### Other Reference  Blogs \n",
    "\n",
    "\n",
    "\n",
    "\n",
    "[1] https://www.analyticsvidhya.com/blog/2021/08/predict-the-next-word-of-your-text-using-long-short-term-memory-lstm/\n",
    " \n",
    "\n",
    "\n",
    "[2]https://medium.com/geekculture/next-word-prediction-using-lstms-98a1edec8594\n",
    "\n",
    "\n",
    "[3] \n",
    "https://www.geeksforgeeks.org/next-word-prediction-with-deep-learning-in-nlp/\n",
    "\n",
    "\n",
    "[4] https://thecleverprogrammer.com/2020/07/20/next-word-prediction-model/#google_vignette\n",
    "\n",
    "\n",
    "\n",
    "[5] https://github.com/abhi227070/Next-Word-Prediction-Using-LSTM\n",
    "\n",
    "\n",
    "\n"
   ]
  },
  {
   "cell_type": "markdown",
   "id": "38e12b2c",
   "metadata": {},
   "source": [
    "## Section 1: Tutorial Note on Next Word Prediction \n",
    "\n",
    "Ref [4] \n",
    "\n",
    "- Identifying the most likely word to follow a given string of words is the basic goal of the Natural Language Processing (NLP) task of “next word prediction.” \n",
    "\n",
    "- This predictive skill is essential in various applications, including text auto-completion, speech recognition, and machine translation. \n",
    "\n",
    "- Deep learning approaches have transformed NLP by attaining remarkable success in various language-related tasks, such as next-word prediction.\n"
   ]
  },
  {
   "cell_type": "markdown",
   "id": "bb04b6b7",
   "metadata": {},
   "source": [
    "### 1 a) Model Architecture \n",
    "\n",
    "The model architecture for next-word prediction typically consists of the following components:\n",
    "\n",
    "- **Embedding Layer:** The word embeddings, often referred to as distributed representations of words, are learned by the embedding layer. It captures semantic and contextual information by mapping every word in the lexicon to a dense vector representation. The model can be trained to change these embeddings as trainable parameters.\n",
    "\n",
    "\n",
    "- **Recurrent Layers:** The recurrent layers, like LSTM or GRU, process the input word embeddings in sequential order and keep hidden states that record the sequential data. The model can learn the contextual connections between words and their placements in the sequence thanks to these layers.\n",
    "\n",
    "\n",
    "- **Dense Layers:** One or more dense layers are then added after the recurrent layers to convert the learned features into the appropriate output format. When predicting the next word, the dense layers translate the hidden representations to a probability distribution across the vocabulary, indicating the likelihood that each word will be the following word.\n"
   ]
  },
  {
   "cell_type": "markdown",
   "id": "e7f6796d",
   "metadata": {},
   "source": [
    "### 1 b) Training and Optimization\n",
    "\n",
    "The model is trained using a large corpus of text data, where the input sequences are paired with their corresponding target word. The training process involves optimizing the model’s parameters by minimizing a suitable loss function, such as categorical cross-entropy. "
   ]
  },
  {
   "cell_type": "markdown",
   "id": "fd9c9023",
   "metadata": {},
   "source": [
    "### 1 c) Inference and Prediction\n",
    "\n",
    "- The model can be used to predict the next word once it has been trained. \n",
    "\n",
    "- The trained model receives an input of a list of words, processes it through the learned architecture, and outputs a probability distribution across the vocabulary. \n",
    "\n",
    "- The anticipated next word is then chosen as the one with the highest likelihood.\n",
    "\n",
    "- Typically the predicted next word is augmented to the initial seed word sequence and fed again to get the 'next' word.\n",
    "\n",
    "- The process is repeated till the desired length of output sequence is achieved"
   ]
  },
  {
   "cell_type": "markdown",
   "id": "98adc6b7",
   "metadata": {},
   "source": [
    "## Section 2: Implementation  Strategy A - Split into sentences at \".\", \"?\", \"!\" and new line character \n",
    "\n",
    "The key steps involved in this implementation are \n",
    "\n",
    "- Import  required libraries  \n",
    "- Read input file\n",
    "- Tokenize text \n",
    "- \n"
   ]
  },
  {
   "cell_type": "markdown",
   "id": "3d143f0b",
   "metadata": {},
   "source": [
    "### Step 1 : Import libraries "
   ]
  },
  {
   "cell_type": "code",
   "execution_count": 3,
   "id": "cc21e138",
   "metadata": {},
   "outputs": [],
   "source": [
    "import tensorflow as tf\n",
    "import pickle\n",
    "from tensorflow.keras.models import Sequential\n",
    "from tensorflow.keras.layers import Embedding, LSTM, Dense\n",
    "from tensorflow.keras.preprocessing.text import Tokenizer\n",
    "from tensorflow.keras.preprocessing.sequence import pad_sequences\n",
    "import matplotlib.pyplot as plt\n",
    "import numpy as np\n",
    "import regex as re"
   ]
  },
  {
   "cell_type": "markdown",
   "id": "6aea4e49",
   "metadata": {},
   "source": [
    "### Step 2: Read Input file \n",
    "\n",
    "The below function `file_to_sentence_list()` is uded to read the input text, as explained below \n",
    "\n",
    "\n",
    "**Function Signature:**\n",
    "- The function accepts a file_path of type str and returns a list of sentences (list).\n",
    "\n",
    "**Parameters:**\n",
    "- file_path: The file path pointing to the text file that needs to be processed.\n",
    "\n",
    "**Return Value:**\n",
    "- Returns a list where each element is a line from the file, with surrounding spaces removed.\n",
    "\n",
    "**Error Handling:**\n",
    "\n",
    "-  The try-except blocks are to catch and raise meaningful errors, including FileNotFoundError and general exceptions."
   ]
  },
  {
   "cell_type": "markdown",
   "id": "598c0d10",
   "metadata": {},
   "source": [
    "#### Splitting the input text into senetences\n",
    "\n",
    "\n",
    "-  `re.split()` function, which splits the text at any occurrence of `., ?, !`, or new lines `(\\n)`.\n",
    "\n",
    "- `\\s*` ensures that any whitespace after the punctuation is ignored.\n",
    "- The `\\n+` handles multiple new lines together.\n",
    "\n",
    "\n",
    "#### Filter Sentences:\n",
    "\n",
    "- The list comprehension  includes if sentence.strip(), which ensures empty strings (from extra spaces or blank lines) are filtered out.\n",
    "- If a sentence has one word only it is also filtered out "
   ]
  },
  {
   "cell_type": "code",
   "execution_count": 5,
   "id": "0f932f57",
   "metadata": {},
   "outputs": [],
   "source": [
    "def file_to_sentence_list(file_path: str) -> list:\n",
    "    \"\"\"\n",
    "    Reads a text file from the given file path and returns a list of sentences.\n",
    "    \n",
    "    Each line in the file is treated as a sentence and stripped of leading/trailing whitespace.\n",
    "    \n",
    "    Parameters:\n",
    "    ----------\n",
    "    file_path : str\n",
    "        The path to the text file to be read.\n",
    "    \n",
    "    Returns:\n",
    "    -------\n",
    "    list\n",
    "        A list of sentences where each element represents a line from the file, with leading \n",
    "        and trailing whitespace removed.\n",
    "    \n",
    "    \"\"\"\n",
    "    try:\n",
    "        with open(file_path, 'r', encoding='utf-8') as file:\n",
    "            text = file.read()\n",
    "\n",
    "        # Use regular expressions to split based on ., ?, !, and new lines\n",
    "        sentences = re.split(r'[.!?]\\s*|\\n+', text)\n",
    "\n",
    "        # Strip leading and trailing whitespace from each sentence and filter out empty sentences\n",
    "        sentences = [sentence.strip() for sentence in sentences if sentence.strip()]\n",
    "        \n",
    "        # filter out empty sentences having one word only \n",
    "        sentences = [sentence for sentence in sentences if len(sentence.split()) > 1]\n",
    "     \n",
    "        return sentences\n",
    "    except FileNotFoundError as e:\n",
    "        print(f\"Error: File not found - {file_path}\")\n",
    "        raise e\n",
    "    except Exception as e:\n",
    "        print(f\"An error occurred while reading the file: {e}\")\n",
    "        raise e\n"
   ]
  },
  {
   "cell_type": "code",
   "execution_count": 6,
   "id": "d199d4b5",
   "metadata": {},
   "outputs": [
    {
     "name": "stdout",
     "output_type": "stream",
     "text": [
      "Number of Sentences read is =  12914\n",
      "First Sentence -->  A SCANDAL IN BOHEMIA\n",
      "Second Sentence -->  To Sherlock Holmes she is always _the_ woman\n",
      "Third Sentence --> I have seldom heard him\n"
     ]
    }
   ],
   "source": [
    "# define file path \n",
    "file_path = 'sherlock_holmes.txt'\n",
    "\n",
    "# call function to read data \n",
    "text_data = file_to_sentence_list(file_path)\n",
    "\n",
    "# check Sentence count \n",
    "print(\"Number of Sentences read is = \",len(text_data))\n",
    "\n",
    "# print the first sentence \n",
    "print(\"First Sentence --> \",  text_data[0])\n",
    "\n",
    "print(\"Second Sentence --> \", text_data[1])\n",
    "\n",
    "# print the second sentence \n",
    "print(\"Third Sentence -->\",   text_data[2])\n"
   ]
  },
  {
   "cell_type": "markdown",
   "id": "31684b26",
   "metadata": {},
   "source": [
    "### Step 3 Tokenise text data \n",
    "\n",
    "Key substeps are \n",
    "\n",
    "- Fit Tokenizer on text data \n",
    "- Create Input Sequences \n",
    "- Convert target data to one hot encoding"
   ]
  },
  {
   "cell_type": "markdown",
   "id": "14c8a6ea",
   "metadata": {},
   "source": [
    "### Step 3a : Fit Tokenizer"
   ]
  },
  {
   "cell_type": "code",
   "execution_count": 7,
   "id": "8d9cb07e",
   "metadata": {},
   "outputs": [
    {
     "name": "stdout",
     "output_type": "stream",
     "text": [
      " Total count of unique words :  8783\n"
     ]
    }
   ],
   "source": [
    "# Tokenize the text data\n",
    "tokenizer = Tokenizer()\n",
    "\n",
    "# fit\n",
    "tokenizer.fit_on_texts(text_data)\n",
    "\n",
    "\n",
    "#assign length of word index\n",
    "total_words = len(tokenizer.word_index) + 1\n",
    "\n",
    "\n",
    "# Count of Unique Words \n",
    "print(\" Total count of unique words : \", total_words)"
   ]
  },
  {
   "cell_type": "code",
   "execution_count": 8,
   "id": "9d3ceb0d",
   "metadata": {},
   "outputs": [
    {
     "name": "stdout",
     "output_type": "stream",
     "text": [
      "Key: the, Value: 1\n",
      "Key: and, Value: 2\n",
      "Key: to, Value: 3\n",
      "Key: of, Value: 4\n",
      "Key: a, Value: 5\n",
      "Key: i, Value: 6\n",
      "Key: in, Value: 7\n",
      "Key: that, Value: 8\n",
      "Key: it, Value: 9\n",
      "Key: he, Value: 10\n"
     ]
    }
   ],
   "source": [
    "# check the tokens  first 10 only \n",
    "cnt = 0 \n",
    "for key, value in tokenizer.word_index.items():\n",
    "        \n",
    "    if cnt > 9:\n",
    "        break\n",
    "    print(f\"Key: {key}, Value: {value}\")\n",
    "    cnt = cnt + 1"
   ]
  },
  {
   "cell_type": "markdown",
   "id": "280f0c6b",
   "metadata": {},
   "source": [
    "### Step 3b : Create Input Sequence  using n - grams \n",
    "\n",
    "The code is explained below in detail \n",
    "\n",
    "**`1. input_sequences = []`**\n",
    "\n",
    "\n",
    "- Purpose: This creates an empty list input_sequences to store sequences of tokens that will be generated in the subsequent steps.\n",
    "- This list will eventually hold all the n-gram sequences extracted from the text_data.\n",
    "\n",
    "\n",
    "**2. `for line in text_data`:**\n",
    "\n",
    "- Purpose: This loops through each line in text_data.\n",
    "- Here, text_data is a list of sentences or lines, where each line represents a string (e.g., a sentence from some text).\n",
    "\n",
    "- This prepares each sentence for tokenization.\n",
    "\n",
    "\n",
    "**3. `token_list = tokenizer.texts_to_sequences([line])[0]`**\n",
    "\n",
    "- Purpose: Tokenizes the current line (sentence) into a sequence of numbers (tokens).\n",
    "\n",
    "**Explanation:**\n",
    "\n",
    "- tokenizer.texts_to_sequences([line]): This method converts the given text (in this case, a single sentence line) into a sequence of integers, where each integer represents a unique token (word) in the sentence.\n",
    "\n",
    "\n",
    "- The texts_to_sequences method returns a list of sequences (because it accepts multiple texts as input), but since we only passed one sentence ([line]), we extract the first and only sequence using [0]. \n",
    "\n",
    "- Now, token_list contains the list of tokens for that line.\n",
    "\n",
    "\n",
    "**4. `for i in range(1, len(token_list))`:**\n",
    "\n",
    "- Purpose: This loops over the tokenized list of words to create \"n-grams\".\n",
    "\n",
    "**Explanation:**\n",
    "\n",
    "- This loop runs from i = 1 to the length of token_list minus 1.\n",
    "\n",
    "- The purpose here is to generate n-grams from the token list.\n",
    "\n",
    "- The i+1 ensures that each loop iteration selects an increasingly larger portion of the token list (starting from 2 tokens, up to the full sentence).\n",
    "\n",
    "\n",
    "\n",
    "**5. `n_gram_sequence = token_list[:i+1]`**\n",
    "\n",
    "- Purpose: Generates an n-gram sequence.\n",
    "\n",
    "**Explanation:**\n",
    "\n",
    "- The `token_list[:i+1]` slices the tokenized sentence from the beginning (index 0) to the (i+1)th token.\n",
    "\n",
    "**For example, if `token_list = [3, 15, 7, 29]`:**\n",
    "\n",
    "- At i = 1, n_gram_sequence will be [3, 15].\n",
    "- At i = 2, n_gram_sequence will be [3, 15, 7].\n",
    "- At i = 3, n_gram_sequence will be [3, 15, 7, 29].\n",
    "\n",
    "\n",
    "**6. input_sequences.append(n_gram_sequence)**\n",
    "\n",
    "- Purpose: Adds the generated n-gram sequence to the input_sequences list.\n",
    "\n",
    "\n",
    "**Explanation:**\n",
    "- With each iteration of the inner loop, the new n-gram is appended to the input_sequences list.\n",
    "- This list now contains n-gram sequences of increasing length, which can later be used for training purposes (e.g., for a language model).\n"
   ]
  },
  {
   "cell_type": "markdown",
   "id": "aa33284d",
   "metadata": {},
   "source": [
    "#### Create Input Sequence "
   ]
  },
  {
   "cell_type": "code",
   "execution_count": 9,
   "id": "62aece25",
   "metadata": {},
   "outputs": [],
   "source": [
    "# Create Input Sequences\n",
    "input_sequences = []\n",
    "#split the sentence from '\\n'\n",
    "for line in text_data:\n",
    "    #get tokens\n",
    "    token_list = tokenizer.texts_to_sequences([line])[0]\n",
    "    for i in range(1, len(token_list)):\n",
    "        n_gram_sequence = token_list[:i+1]\n",
    "        input_sequences.append(n_gram_sequence)"
   ]
  },
  {
   "cell_type": "markdown",
   "id": "d5a32662",
   "metadata": {},
   "source": [
    "#### Check 1st 10  Input Sequences "
   ]
  },
  {
   "cell_type": "code",
   "execution_count": 10,
   "id": "ef6bfe61",
   "metadata": {},
   "outputs": [
    {
     "name": "stdout",
     "output_type": "stream",
     "text": [
      "[5, 925]\n",
      "[5, 925, 7]\n",
      "[5, 925, 7, 1065]\n",
      "[3, 133]\n",
      "[3, 133, 38]\n",
      "[3, 133, 38, 37]\n",
      "[3, 133, 38, 37, 14]\n",
      "[3, 133, 38, 37, 14, 226]\n",
      "[3, 133, 38, 37, 14, 226, 1]\n",
      "[3, 133, 38, 37, 14, 226, 1, 227]\n"
     ]
    }
   ],
   "source": [
    "# check 1st ten input sequences \n",
    "for i in range(0, 10):\n",
    "    print(input_sequences[i])"
   ]
  },
  {
   "cell_type": "markdown",
   "id": "6a5053c4",
   "metadata": {},
   "source": [
    "#### Check The sentence for input sequence 2 "
   ]
  },
  {
   "cell_type": "code",
   "execution_count": 11,
   "id": "68383249",
   "metadata": {},
   "outputs": [
    {
     "name": "stdout",
     "output_type": "stream",
     "text": [
      "['a', 'scandal', 'in', 'bohemia']\n"
     ]
    }
   ],
   "source": [
    "sentence_token = input_sequences[2] # [5, 925, 7, 1065]\n",
    "\n",
    "sentence = []\n",
    "for token in sentence_token:\n",
    "    sentence.append(list((tokenizer.word_index).keys())[list((tokenizer.word_index).values()).index(token)])\n",
    "print(sentence)"
   ]
  },
  {
   "cell_type": "markdown",
   "id": "76558a60",
   "metadata": {},
   "source": [
    "### Step 3c : Pad  Sequences\n",
    "\n",
    "- Determine max length input sequence\n",
    "- Pad all input sequences with pre zeros to match length of max sequence\n",
    "\n",
    "\n",
    "**How Padding Helps in NLP Tasks:**\n",
    "\n",
    "- Consistent Input Size: Most deep learning models (like LSTMs) expect inputs of the same size. Padding ensures that each sequence has the same number of tokens.\n",
    "\n",
    "- Batch Processing: When training on multiple sequences at once (batching), padding ensures that sequences of varying lengths can be processed together as matrices with uniform dimensions.\n",
    "\n",
    "- Pre-padding (padding='pre'): This is common for models that care more about the recent tokens. The zeros at the start act as placeholders and do not affect learning, allowing the model to focus on the last tokens in the sequence.\n"
   ]
  },
  {
   "cell_type": "code",
   "execution_count": 12,
   "id": "bb64f56a",
   "metadata": {},
   "outputs": [],
   "source": [
    "# Pad sequences and split into predictors and label\n",
    "max_sequence_len = max([len(seq) for seq in input_sequences])\n",
    "input_sequences = np.array(pad_sequences(\n",
    "    input_sequences, maxlen=max_sequence_len, padding='pre'))\n"
   ]
  },
  {
   "cell_type": "markdown",
   "id": "d791b66b",
   "metadata": {},
   "source": [
    "### Step 3d : Create X and y  Data \n",
    "\n",
    "- Choose the last token for every sequence as Y data \n",
    "- Choose all tokens upto the last token as X data for every sequence \n",
    "- Convert Y value to One hot Encoded values "
   ]
  },
  {
   "cell_type": "code",
   "execution_count": 13,
   "id": "2365404e",
   "metadata": {},
   "outputs": [],
   "source": [
    "X, y = input_sequences[:, :-1], input_sequences[:, -1]\n",
    "\n",
    "# Convert target data to one-hot encoding\n",
    "y = tf.keras.utils.to_categorical(y, num_classes=total_words)\n",
    "\n"
   ]
  },
  {
   "cell_type": "markdown",
   "id": "436bd4fa",
   "metadata": {},
   "source": [
    "### Step 4 Define the model \n",
    "\n",
    "\n",
    "- The input sequences are mapped to dense vectors of fixed size in the first layer, which is an embedding layer.\n",
    "\n",
    "- It requires three arguments: input_length (the length of the input sequences less one because we are predicting the next word), 10 (the dimensionality of the embedding space), and total_words (the total number of unique words in the vocabulary).\n",
    "\n",
    "- An LSTM (Long Short-Term Memory) layer with 128 units makes up the second layer. \n",
    "\n",
    "\n",
    "- A Dense layer with total_words units and softmax activation make up the third layer. The output probabilities for each word in the vocabulary are generated by this layer. \n",
    "\n",
    "- The categorical cross-entropy loss function used in the model is appropriate for multi-class classification applications.\n",
    "\n",
    "- Adam is the chosen optimizer, and accuracy is the evaluation metric."
   ]
  },
  {
   "cell_type": "code",
   "execution_count": null,
   "id": "c05e3f0f",
   "metadata": {},
   "outputs": [],
   "source": [
    "from tensorflow.keras.models import Sequential\n",
    "from tensorflow.keras.layers import Embedding, LSTM, Dense\n",
    "from tensorflow.keras.preprocessing.sequence import pad_sequences\n",
    "import tensorflow as tf\n",
    "\n",
    "# Ensure that `total_words` and `max_sequence_len` are defined\n",
    "# total_words should be the size of your vocabulary\n",
    "# max_sequence_len should be the length of the longest sequence\n",
    "\n",
    "# Define the model\n",
    "model = Sequential()\n",
    "\n",
    "# Embedding layer\n",
    "model.add(Embedding(input_dim=total_words, output_dim=10, input_length=max_sequence_len-1))\n",
    "#model.add(Embedding(input_dim=total_words, output_dim=10))\n",
    "\n",
    "# LSTM layer with 128 units\n",
    "model.add(LSTM(128))\n",
    "\n",
    "# Output layer - Dense with softmax activation for multiclass classification\n",
    "model.add(Dense(total_words, activation='softmax'))\n",
    "\n",
    "# Compile the model\n",
    "model.compile(loss='categorical_crossentropy', optimizer='adam', metrics=['accuracy'])\n",
    "\n"
   ]
  },
  {
   "cell_type": "markdown",
   "id": "cab39055",
   "metadata": {},
   "source": [
    "### Step 5 Train the Model \n",
    "\n",
    "- Note we are training for 100 Epochs "
   ]
  },
  {
   "cell_type": "code",
   "execution_count": null,
   "id": "d0c8ae1e",
   "metadata": {},
   "outputs": [],
   "source": [
    "# Train the model\n",
    "history = model.fit(X, y, epochs=100,validation_split=0.05, verbose=1).history"
   ]
  },
  {
   "cell_type": "markdown",
   "id": "2bb23c80",
   "metadata": {},
   "source": [
    "### Step 6 : Print model Summary \n",
    "\n",
    "- Note once molde is trained the structure will be built \n",
    "- It may not be built after compile step "
   ]
  },
  {
   "cell_type": "code",
   "execution_count": null,
   "id": "bf9e1484",
   "metadata": {},
   "outputs": [],
   "source": [
    "# Print model summary to verify the structure\n",
    "print(model.summary())"
   ]
  },
  {
   "cell_type": "markdown",
   "id": "ae5e1f8c",
   "metadata": {},
   "source": [
    "### Step 7 : Save Model object post training completion "
   ]
  },
  {
   "cell_type": "code",
   "execution_count": null,
   "id": "3574fd9e",
   "metadata": {},
   "outputs": [],
   "source": [
    "# Save the model after training \n",
    "model.save('lstm_model.h5') \n",
    "print(\"Model saved as lstm_model.h5\")"
   ]
  },
  {
   "cell_type": "markdown",
   "id": "1f21237f",
   "metadata": {},
   "source": [
    "### Step 8 : Load from saved model object "
   ]
  },
  {
   "cell_type": "code",
   "execution_count": null,
   "id": "19de3fe3",
   "metadata": {},
   "outputs": [],
   "source": [
    "# load saved model \n",
    "from tensorflow.keras.models import load_model\n",
    "loaded_model = load_model('lstm_model.h5')"
   ]
  },
  {
   "cell_type": "markdown",
   "id": "959278d4",
   "metadata": {},
   "source": [
    "### Step 9:   Save the model history "
   ]
  },
  {
   "cell_type": "code",
   "execution_count": null,
   "id": "965b53d8",
   "metadata": {},
   "outputs": [],
   "source": [
    "pickle.dump(history, open(\"history.p\", \"wb\"))"
   ]
  },
  {
   "cell_type": "markdown",
   "id": "ddfeb1d7",
   "metadata": {},
   "source": [
    "### Step 10 : Load history from saved pickle file "
   ]
  },
  {
   "cell_type": "code",
   "execution_count": null,
   "id": "6420f118",
   "metadata": {},
   "outputs": [],
   "source": [
    "history = pickle.load(open(\"history.p\", \"rb\"))"
   ]
  },
  {
   "cell_type": "markdown",
   "id": "b3e9c2b6",
   "metadata": {},
   "source": [
    "### Step 11: Evaluating the model\n",
    "\n",
    "- Evaluate Model Accuracy vs Number of Epochs\n",
    "- Evaluate Model Loss Vs Number of Epochs "
   ]
  },
  {
   "cell_type": "markdown",
   "id": "8ff1ee62",
   "metadata": {},
   "source": [
    "#### Step 11 a : Evaluate Model Accuracy vs Number of Epochs "
   ]
  },
  {
   "cell_type": "code",
   "execution_count": null,
   "id": "00525896",
   "metadata": {},
   "outputs": [],
   "source": [
    "plt.plot(history['accuracy'])\n",
    "plt.plot(history['val_accuracy'])\n",
    "plt.title('model accuracy')\n",
    "plt.ylabel('accuracy')\n",
    "plt.xlabel('epoch')\n",
    "plt.legend(['train', 'test'], loc='upper left')\n"
   ]
  },
  {
   "cell_type": "markdown",
   "id": "e0e20820",
   "metadata": {},
   "source": [
    "#### Step 11 b : Evaluate Model Loss Vs Number of Epochs"
   ]
  },
  {
   "cell_type": "code",
   "execution_count": null,
   "id": "3b2d451d",
   "metadata": {},
   "outputs": [],
   "source": [
    "plt.plot(history['loss'])\n",
    "plt.plot(history['val_loss'])\n",
    "plt.title('model loss')\n",
    "plt.ylabel('loss')\n",
    "plt.xlabel('epoch')\n",
    "plt.legend(['train', 'test'], loc='upper left')"
   ]
  },
  {
   "cell_type": "markdown",
   "id": "0b14d42f",
   "metadata": {},
   "source": [
    "## Section 4: Implementation  Strategy B - Split into sentences by ONLY new line character \n",
    "\n"
   ]
  },
  {
   "cell_type": "markdown",
   "id": "603466c5",
   "metadata": {},
   "source": [
    "### Modified function to split sentence by new line character only "
   ]
  },
  {
   "cell_type": "code",
   "execution_count": null,
   "id": "5b39d84a",
   "metadata": {},
   "outputs": [],
   "source": [
    "def file_to_sentence_list_2(file_path: str) -> list:\n",
    "    \"\"\"\n",
    "    Reads a text file from the given file path and returns a list of sentences.\n",
    "    \n",
    "    Each line in the file is treated as a sentence and stripped of leading/trailing whitespace.\n",
    "    \n",
    "    Parameters:\n",
    "    ----------\n",
    "    file_path : str\n",
    "        The path to the text file to be read.\n",
    "    \n",
    "    Returns:\n",
    "    -------\n",
    "    list\n",
    "        A list of sentences where each element represents a line from the file, with leading \n",
    "        and trailing whitespace removed.\n",
    "    \n",
    "    \"\"\"\n",
    "    try:\n",
    "        with open(file_path, 'r', encoding='utf-8') as file:\n",
    "            text = file.read()\n",
    "\n",
    "        # Use regular expressions to split based on ., ?, !, and new lines\n",
    "\n",
    "        sentences = text.split('\\n')\n",
    "\n",
    "        # Strip leading and trailing whitespace from each sentence and filter out empty sentences\n",
    "        sentences = [sentence.strip() for sentence in sentences if sentence.strip()]\n",
    "        \n",
    "        # filter out empty sentences having one word only \n",
    "        sentences = [sentence for sentence in sentences if len(sentence.split()) > 1]\n",
    "     \n",
    "        return sentences\n",
    "    except FileNotFoundError as e:\n",
    "        print(f\"Error: File not found - {file_path}\")\n",
    "        raise e\n",
    "    except Exception as e:\n",
    "        print(f\"An error occurred while reading the file: {e}\")\n",
    "        raise e"
   ]
  },
  {
   "cell_type": "code",
   "execution_count": null,
   "id": "9ba24b0d",
   "metadata": {},
   "outputs": [],
   "source": [
    "# define file path \n",
    "file_path = 'sherlock_holmes.txt'\n",
    "\n",
    "# call function to read data \n",
    "text_data = file_to_sentence_list_2(file_path)\n",
    "\n",
    "# check Sentence count \n",
    "print(\"Number of Sentences read is = \",len(text_data))\n",
    "\n",
    "# print the first sentence \n",
    "print(\"First Sentence --> \",  text_data[0])\n",
    "\n",
    "print(\"Second Sentence --> \", text_data[1])\n",
    "\n",
    "# print the second sentence \n",
    "print(\"Third Sentence -->\",   text_data[2])\n"
   ]
  },
  {
   "cell_type": "markdown",
   "id": "4404ac44",
   "metadata": {},
   "source": [
    "### Tokenize the text data after new split strategy "
   ]
  },
  {
   "cell_type": "code",
   "execution_count": null,
   "id": "7e58a380",
   "metadata": {},
   "outputs": [],
   "source": [
    "# Tokenize the text data\n",
    "tokenizer = Tokenizer()\n",
    "\n",
    "# fit\n",
    "tokenizer.fit_on_texts(text_data)\n",
    "\n",
    "\n",
    "#assign length of word index\n",
    "total_words = len(tokenizer.word_index) + 1\n",
    "\n",
    "\n",
    "# Count of Unique Words \n",
    "print(\" Total count of unique words : \", total_words)"
   ]
  },
  {
   "cell_type": "markdown",
   "id": "e49a2277",
   "metadata": {},
   "source": [
    "### Create N gram based input sequence "
   ]
  },
  {
   "cell_type": "code",
   "execution_count": null,
   "id": "31538372",
   "metadata": {},
   "outputs": [],
   "source": [
    "# Create Input Sequences\n",
    "input_sequences = []\n",
    "#split the sentence from '\\n'\n",
    "for line in text_data:\n",
    "    #get tokens\n",
    "    token_list = tokenizer.texts_to_sequences([line])[0]\n",
    "    for i in range(1, len(token_list)):\n",
    "        n_gram_sequence = token_list[:i+1]\n",
    "        input_sequences.append(n_gram_sequence)"
   ]
  },
  {
   "cell_type": "markdown",
   "id": "a62ebba3",
   "metadata": {},
   "source": [
    "### Pad Sequences for uniform length "
   ]
  },
  {
   "cell_type": "code",
   "execution_count": null,
   "id": "f0f90213",
   "metadata": {},
   "outputs": [],
   "source": [
    "# Pad sequences and split into predictors and label\n",
    "max_sequence_len = max([len(seq) for seq in input_sequences])\n",
    "input_sequences = np.array(pad_sequences(\n",
    "    input_sequences, maxlen=max_sequence_len, padding='pre'))"
   ]
  },
  {
   "cell_type": "markdown",
   "id": "75f32ca8",
   "metadata": {},
   "source": [
    "### Create X and Y Data,  hot encode Y data "
   ]
  },
  {
   "cell_type": "code",
   "execution_count": null,
   "id": "650ae275",
   "metadata": {},
   "outputs": [],
   "source": [
    "X, y = input_sequences[:, :-1], input_sequences[:, -1]\n",
    "\n",
    "# Convert target data to one-hot encoding\n",
    "y = tf.keras.utils.to_categorical(y, num_classes=total_words)\n",
    "\n"
   ]
  },
  {
   "cell_type": "markdown",
   "id": "ca1550aa",
   "metadata": {},
   "source": [
    "### Define the second model "
   ]
  },
  {
   "cell_type": "code",
   "execution_count": null,
   "id": "68698cb4",
   "metadata": {},
   "outputs": [],
   "source": [
    "from tensorflow.keras.models import Sequential\n",
    "from tensorflow.keras.layers import Embedding, LSTM, Dense\n",
    "from tensorflow.keras.preprocessing.sequence import pad_sequences\n",
    "import tensorflow as tf\n",
    "\n",
    "# Ensure that `total_words` and `max_sequence_len` are defined\n",
    "# total_words should be the size of your vocabulary\n",
    "# max_sequence_len should be the length of the longest sequence\n",
    "\n",
    "# Define the model\n",
    "model2 = Sequential()\n",
    "\n",
    "# Embedding layer\n",
    "model2.add(Embedding(input_dim=total_words, output_dim=10, input_length=max_sequence_len-1))\n",
    "#model.add(Embedding(input_dim=total_words, output_dim=10))\n",
    "\n",
    "# LSTM layer with 128 units\n",
    "model2.add(LSTM(128))\n",
    "\n",
    "# Output layer - Dense with softmax activation for multiclass classification\n",
    "model2.add(Dense(total_words, activation='softmax'))\n",
    "\n",
    "# Compile the model\n",
    "model2.compile(loss='categorical_crossentropy', optimizer='adam', metrics=['accuracy'])\n"
   ]
  },
  {
   "cell_type": "markdown",
   "id": "752c17db",
   "metadata": {},
   "source": [
    "### Train the 2nd model "
   ]
  },
  {
   "cell_type": "code",
   "execution_count": null,
   "id": "92897923",
   "metadata": {},
   "outputs": [],
   "source": [
    "# Train the model\n",
    "history = model2.fit(X, y, epochs=100,validation_split=0.05, verbose=1).history"
   ]
  },
  {
   "cell_type": "markdown",
   "id": "67daee4d",
   "metadata": {},
   "source": [
    "### Save Model after training "
   ]
  },
  {
   "cell_type": "code",
   "execution_count": null,
   "id": "55ceedf0",
   "metadata": {},
   "outputs": [],
   "source": [
    "# Save the model after training \n",
    "model2.save('lstm_model2.h5') \n",
    "print(\"Model saved as lstm_model2.h5\")"
   ]
  },
  {
   "cell_type": "markdown",
   "id": "9b720493",
   "metadata": {},
   "source": [
    "### Load Saved model 2 "
   ]
  },
  {
   "cell_type": "code",
   "execution_count": null,
   "id": "4c2a9bd5",
   "metadata": {},
   "outputs": [],
   "source": [
    "# load saved model \n",
    "from tensorflow.keras.models import load_model\n",
    "loaded_model2 = load_model('lstm_model2.h5')"
   ]
  },
  {
   "cell_type": "markdown",
   "id": "c958299e",
   "metadata": {},
   "source": [
    "### Save History for model 2"
   ]
  },
  {
   "cell_type": "code",
   "execution_count": null,
   "id": "962fd37b",
   "metadata": {},
   "outputs": [],
   "source": [
    "pickle.dump(history, open(\"history2.p\", \"wb\"))"
   ]
  },
  {
   "cell_type": "markdown",
   "id": "d1af49f4",
   "metadata": {},
   "source": [
    "### Load History for model 2 "
   ]
  },
  {
   "cell_type": "code",
   "execution_count": null,
   "id": "0e74b554",
   "metadata": {},
   "outputs": [],
   "source": [
    "history2 = pickle.load(open(\"history2.p\", \"rb\"))"
   ]
  },
  {
   "cell_type": "markdown",
   "id": "259b15f6",
   "metadata": {},
   "source": [
    "### Plot History - Accuracy vs Epochs  for model 2 "
   ]
  },
  {
   "cell_type": "code",
   "execution_count": null,
   "id": "3872b6e0",
   "metadata": {},
   "outputs": [],
   "source": [
    "plt.plot(history2['accuracy'])\n",
    "plt.plot(history2['val_accuracy'])\n",
    "plt.title('model accuracy')\n",
    "plt.ylabel('accuracy')\n",
    "plt.xlabel('epoch')\n",
    "plt.legend(['train', 'test'], loc='upper left')\n"
   ]
  },
  {
   "cell_type": "markdown",
   "id": "d65b1fa8",
   "metadata": {},
   "source": [
    "### Plot Loss Vs Epochs for model 2"
   ]
  },
  {
   "cell_type": "code",
   "execution_count": null,
   "id": "3221bf24",
   "metadata": {},
   "outputs": [],
   "source": [
    "plt.plot(history2['loss'])\n",
    "plt.plot(history2['val_loss'])\n",
    "plt.title('model loss')\n",
    "plt.ylabel('loss')\n",
    "plt.xlabel('epoch')\n",
    "plt.legend(['train', 'test'], loc='upper left')"
   ]
  },
  {
   "cell_type": "markdown",
   "id": "bdfe9880",
   "metadata": {},
   "source": [
    "## Section 5: Implementation  Strategy C - Split into sentences by ONLY new line character and Increase LSTM Layer nodes to 150 "
   ]
  },
  {
   "cell_type": "markdown",
   "id": "0d6ae629",
   "metadata": {},
   "source": [
    "### Define the 3rd model "
   ]
  },
  {
   "cell_type": "code",
   "execution_count": 14,
   "id": "e1c774c1",
   "metadata": {},
   "outputs": [
    {
     "name": "stderr",
     "output_type": "stream",
     "text": [
      "/Users/anishroychowdhury/anaconda3/envs/LLM/lib/python3.10/site-packages/keras/src/layers/core/embedding.py:90: UserWarning: Argument `input_length` is deprecated. Just remove it.\n",
      "  warnings.warn(\n"
     ]
    }
   ],
   "source": [
    "from tensorflow.keras.models import Sequential\n",
    "from tensorflow.keras.layers import Embedding, LSTM, Dense\n",
    "from tensorflow.keras.preprocessing.sequence import pad_sequences\n",
    "import tensorflow as tf\n",
    "\n",
    "# Ensure that `total_words` and `max_sequence_len` are defined\n",
    "# total_words should be the size of your vocabulary\n",
    "# max_sequence_len should be the length of the longest sequence\n",
    "\n",
    "# Define the model\n",
    "model3 = Sequential()\n",
    "\n",
    "# Embedding layer\n",
    "model3.add(Embedding(input_dim=total_words, output_dim=10, input_length=max_sequence_len-1))\n",
    "#model.add(Embedding(input_dim=total_words, output_dim=10))\n",
    "\n",
    "# LSTM layer with 150 units\n",
    "model3.add(LSTM(150))\n",
    "\n",
    "# Output layer - Dense with softmax activation for multiclass classification\n",
    "model3.add(Dense(total_words, activation='softmax'))\n",
    "\n",
    "# Compile the model\n",
    "model3.compile(loss='categorical_crossentropy', optimizer='adam', metrics=['accuracy'])\n"
   ]
  },
  {
   "cell_type": "markdown",
   "id": "a8bef0d5",
   "metadata": {},
   "source": [
    "### Train the 3rd model "
   ]
  },
  {
   "cell_type": "code",
   "execution_count": 15,
   "id": "87f7035d",
   "metadata": {},
   "outputs": [
    {
     "name": "stdout",
     "output_type": "stream",
     "text": [
      "Epoch 1/100\n",
      "\u001b[1m2818/2818\u001b[0m \u001b[32m━━━━━━━━━━━━━━━━━━━━\u001b[0m\u001b[37m\u001b[0m \u001b[1m46s\u001b[0m 16ms/step - accuracy: 0.0566 - loss: 6.7142 - val_accuracy: 0.0737 - val_loss: 7.4050\n",
      "Epoch 2/100\n",
      "\u001b[1m2818/2818\u001b[0m \u001b[32m━━━━━━━━━━━━━━━━━━━━\u001b[0m\u001b[37m\u001b[0m \u001b[1m48s\u001b[0m 17ms/step - accuracy: 0.0826 - loss: 5.9383 - val_accuracy: 0.0965 - val_loss: 7.3540\n",
      "Epoch 3/100\n",
      "\u001b[1m2818/2818\u001b[0m \u001b[32m━━━━━━━━━━━━━━━━━━━━\u001b[0m\u001b[37m\u001b[0m \u001b[1m50s\u001b[0m 18ms/step - accuracy: 0.1175 - loss: 5.5049 - val_accuracy: 0.1003 - val_loss: 7.5734\n",
      "Epoch 4/100\n",
      "\u001b[1m2818/2818\u001b[0m \u001b[32m━━━━━━━━━━━━━━━━━━━━\u001b[0m\u001b[37m\u001b[0m \u001b[1m50s\u001b[0m 18ms/step - accuracy: 0.1385 - loss: 5.1925 - val_accuracy: 0.1123 - val_loss: 7.7089\n",
      "Epoch 5/100\n",
      "\u001b[1m2818/2818\u001b[0m \u001b[32m━━━━━━━━━━━━━━━━━━━━\u001b[0m\u001b[37m\u001b[0m \u001b[1m47s\u001b[0m 17ms/step - accuracy: 0.1516 - loss: 4.9280 - val_accuracy: 0.1157 - val_loss: 7.8519\n",
      "Epoch 6/100\n",
      "\u001b[1m2818/2818\u001b[0m \u001b[32m━━━━━━━━━━━━━━━━━━━━\u001b[0m\u001b[37m\u001b[0m \u001b[1m47s\u001b[0m 17ms/step - accuracy: 0.1601 - loss: 4.7112 - val_accuracy: 0.1176 - val_loss: 7.9306\n",
      "Epoch 7/100\n",
      "\u001b[1m2818/2818\u001b[0m \u001b[32m━━━━━━━━━━━━━━━━━━━━\u001b[0m\u001b[37m\u001b[0m \u001b[1m47s\u001b[0m 17ms/step - accuracy: 0.1674 - loss: 4.5195 - val_accuracy: 0.1121 - val_loss: 8.0930\n",
      "Epoch 8/100\n",
      "\u001b[1m2818/2818\u001b[0m \u001b[32m━━━━━━━━━━━━━━━━━━━━\u001b[0m\u001b[37m\u001b[0m \u001b[1m47s\u001b[0m 17ms/step - accuracy: 0.1809 - loss: 4.3286 - val_accuracy: 0.1169 - val_loss: 8.3257\n",
      "Epoch 9/100\n",
      "\u001b[1m2818/2818\u001b[0m \u001b[32m━━━━━━━━━━━━━━━━━━━━\u001b[0m\u001b[37m\u001b[0m \u001b[1m49s\u001b[0m 17ms/step - accuracy: 0.1946 - loss: 4.1487 - val_accuracy: 0.1157 - val_loss: 8.5017\n",
      "Epoch 10/100\n",
      "\u001b[1m2818/2818\u001b[0m \u001b[32m━━━━━━━━━━━━━━━━━━━━\u001b[0m\u001b[37m\u001b[0m \u001b[1m45s\u001b[0m 16ms/step - accuracy: 0.2120 - loss: 3.9755 - val_accuracy: 0.1106 - val_loss: 8.6610\n",
      "Epoch 11/100\n",
      "\u001b[1m2818/2818\u001b[0m \u001b[32m━━━━━━━━━━━━━━━━━━━━\u001b[0m\u001b[37m\u001b[0m \u001b[1m44s\u001b[0m 16ms/step - accuracy: 0.2327 - loss: 3.8243 - val_accuracy: 0.1089 - val_loss: 8.7769\n",
      "Epoch 12/100\n",
      "\u001b[1m2818/2818\u001b[0m \u001b[32m━━━━━━━━━━━━━━━━━━━━\u001b[0m\u001b[37m\u001b[0m \u001b[1m43s\u001b[0m 15ms/step - accuracy: 0.2493 - loss: 3.6703 - val_accuracy: 0.1096 - val_loss: 8.8822\n",
      "Epoch 13/100\n",
      "\u001b[1m2818/2818\u001b[0m \u001b[32m━━━━━━━━━━━━━━━━━━━━\u001b[0m\u001b[37m\u001b[0m \u001b[1m44s\u001b[0m 15ms/step - accuracy: 0.2675 - loss: 3.5397 - val_accuracy: 0.0995 - val_loss: 9.0518\n",
      "Epoch 14/100\n",
      "\u001b[1m2818/2818\u001b[0m \u001b[32m━━━━━━━━━━━━━━━━━━━━\u001b[0m\u001b[37m\u001b[0m \u001b[1m42s\u001b[0m 15ms/step - accuracy: 0.2865 - loss: 3.4217 - val_accuracy: 0.1026 - val_loss: 9.1364\n",
      "Epoch 15/100\n",
      "\u001b[1m2818/2818\u001b[0m \u001b[32m━━━━━━━━━━━━━━━━━━━━\u001b[0m\u001b[37m\u001b[0m \u001b[1m43s\u001b[0m 15ms/step - accuracy: 0.3039 - loss: 3.2914 - val_accuracy: 0.1035 - val_loss: 9.2676\n",
      "Epoch 16/100\n",
      "\u001b[1m2818/2818\u001b[0m \u001b[32m━━━━━━━━━━━━━━━━━━━━\u001b[0m\u001b[37m\u001b[0m \u001b[1m44s\u001b[0m 15ms/step - accuracy: 0.3231 - loss: 3.1903 - val_accuracy: 0.0982 - val_loss: 9.3985\n",
      "Epoch 17/100\n",
      "\u001b[1m2818/2818\u001b[0m \u001b[32m━━━━━━━━━━━━━━━━━━━━\u001b[0m\u001b[37m\u001b[0m \u001b[1m41s\u001b[0m 14ms/step - accuracy: 0.3373 - loss: 3.1029 - val_accuracy: 0.1022 - val_loss: 9.5124\n",
      "Epoch 18/100\n",
      "\u001b[1m2818/2818\u001b[0m \u001b[32m━━━━━━━━━━━━━━━━━━━━\u001b[0m\u001b[37m\u001b[0m \u001b[1m44s\u001b[0m 16ms/step - accuracy: 0.3543 - loss: 3.0058 - val_accuracy: 0.1005 - val_loss: 9.6241\n",
      "Epoch 19/100\n",
      "\u001b[1m2818/2818\u001b[0m \u001b[32m━━━━━━━━━━━━━━━━━━━━\u001b[0m\u001b[37m\u001b[0m \u001b[1m45s\u001b[0m 16ms/step - accuracy: 0.3686 - loss: 2.9361 - val_accuracy: 0.1001 - val_loss: 9.6969\n",
      "Epoch 20/100\n",
      "\u001b[1m2818/2818\u001b[0m \u001b[32m━━━━━━━━━━━━━━━━━━━━\u001b[0m\u001b[37m\u001b[0m \u001b[1m44s\u001b[0m 16ms/step - accuracy: 0.3802 - loss: 2.8498 - val_accuracy: 0.0961 - val_loss: 9.7978\n",
      "Epoch 21/100\n",
      "\u001b[1m2818/2818\u001b[0m \u001b[32m━━━━━━━━━━━━━━━━━━━━\u001b[0m\u001b[37m\u001b[0m \u001b[1m43s\u001b[0m 15ms/step - accuracy: 0.3944 - loss: 2.7838 - val_accuracy: 0.0961 - val_loss: 9.9494\n",
      "Epoch 22/100\n",
      "\u001b[1m2818/2818\u001b[0m \u001b[32m━━━━━━━━━━━━━━━━━━━━\u001b[0m\u001b[37m\u001b[0m \u001b[1m45s\u001b[0m 16ms/step - accuracy: 0.4106 - loss: 2.7029 - val_accuracy: 0.0948 - val_loss: 10.0538\n",
      "Epoch 23/100\n",
      "\u001b[1m2818/2818\u001b[0m \u001b[32m━━━━━━━━━━━━━━━━━━━━\u001b[0m\u001b[37m\u001b[0m \u001b[1m44s\u001b[0m 16ms/step - accuracy: 0.4197 - loss: 2.6486 - val_accuracy: 0.0950 - val_loss: 10.0687\n",
      "Epoch 24/100\n",
      "\u001b[1m2818/2818\u001b[0m \u001b[32m━━━━━━━━━━━━━━━━━━━━\u001b[0m\u001b[37m\u001b[0m \u001b[1m43s\u001b[0m 15ms/step - accuracy: 0.4303 - loss: 2.5735 - val_accuracy: 0.0948 - val_loss: 10.1817\n",
      "Epoch 25/100\n",
      "\u001b[1m2818/2818\u001b[0m \u001b[32m━━━━━━━━━━━━━━━━━━━━\u001b[0m\u001b[37m\u001b[0m \u001b[1m45s\u001b[0m 16ms/step - accuracy: 0.4395 - loss: 2.5340 - val_accuracy: 0.0940 - val_loss: 10.2892\n",
      "Epoch 26/100\n",
      "\u001b[1m2818/2818\u001b[0m \u001b[32m━━━━━━━━━━━━━━━━━━━━\u001b[0m\u001b[37m\u001b[0m \u001b[1m45s\u001b[0m 16ms/step - accuracy: 0.4525 - loss: 2.4721 - val_accuracy: 0.0933 - val_loss: 10.3822\n",
      "Epoch 27/100\n",
      "\u001b[1m2818/2818\u001b[0m \u001b[32m━━━━━━━━━━━━━━━━━━━━\u001b[0m\u001b[37m\u001b[0m \u001b[1m46s\u001b[0m 16ms/step - accuracy: 0.4605 - loss: 2.4230 - val_accuracy: 0.0879 - val_loss: 10.4814\n",
      "Epoch 28/100\n",
      "\u001b[1m2818/2818\u001b[0m \u001b[32m━━━━━━━━━━━━━━━━━━━━\u001b[0m\u001b[37m\u001b[0m \u001b[1m45s\u001b[0m 16ms/step - accuracy: 0.4669 - loss: 2.3951 - val_accuracy: 0.0923 - val_loss: 10.5491\n",
      "Epoch 29/100\n",
      "\u001b[1m2818/2818\u001b[0m \u001b[32m━━━━━━━━━━━━━━━━━━━━\u001b[0m\u001b[37m\u001b[0m \u001b[1m44s\u001b[0m 16ms/step - accuracy: 0.4786 - loss: 2.3404 - val_accuracy: 0.0944 - val_loss: 10.5868\n",
      "Epoch 30/100\n",
      "\u001b[1m2818/2818\u001b[0m \u001b[32m━━━━━━━━━━━━━━━━━━━━\u001b[0m\u001b[37m\u001b[0m \u001b[1m46s\u001b[0m 16ms/step - accuracy: 0.4817 - loss: 2.3145 - val_accuracy: 0.0877 - val_loss: 10.6841\n",
      "Epoch 31/100\n",
      "\u001b[1m2818/2818\u001b[0m \u001b[32m━━━━━━━━━━━━━━━━━━━━\u001b[0m\u001b[37m\u001b[0m \u001b[1m44s\u001b[0m 16ms/step - accuracy: 0.4851 - loss: 2.2881 - val_accuracy: 0.0917 - val_loss: 10.7832\n",
      "Epoch 32/100\n",
      "\u001b[1m2818/2818\u001b[0m \u001b[32m━━━━━━━━━━━━━━━━━━━━\u001b[0m\u001b[37m\u001b[0m \u001b[1m46s\u001b[0m 16ms/step - accuracy: 0.4993 - loss: 2.2203 - val_accuracy: 0.0938 - val_loss: 10.8267\n",
      "Epoch 33/100\n",
      "\u001b[1m2818/2818\u001b[0m \u001b[32m━━━━━━━━━━━━━━━━━━━━\u001b[0m\u001b[37m\u001b[0m \u001b[1m46s\u001b[0m 16ms/step - accuracy: 0.5047 - loss: 2.1975 - val_accuracy: 0.0936 - val_loss: 10.9155\n",
      "Epoch 34/100\n",
      "\u001b[1m2818/2818\u001b[0m \u001b[32m━━━━━━━━━━━━━━━━━━━━\u001b[0m\u001b[37m\u001b[0m \u001b[1m45s\u001b[0m 16ms/step - accuracy: 0.5074 - loss: 2.1703 - val_accuracy: 0.0889 - val_loss: 10.9875\n",
      "Epoch 35/100\n",
      "\u001b[1m2818/2818\u001b[0m \u001b[32m━━━━━━━━━━━━━━━━━━━━\u001b[0m\u001b[37m\u001b[0m \u001b[1m46s\u001b[0m 16ms/step - accuracy: 0.5165 - loss: 2.1365 - val_accuracy: 0.0887 - val_loss: 11.0610\n",
      "Epoch 36/100\n",
      "\u001b[1m2818/2818\u001b[0m \u001b[32m━━━━━━━━━━━━━━━━━━━━\u001b[0m\u001b[37m\u001b[0m \u001b[1m43s\u001b[0m 15ms/step - accuracy: 0.5250 - loss: 2.1037 - val_accuracy: 0.0900 - val_loss: 11.1322\n",
      "Epoch 37/100\n",
      "\u001b[1m2818/2818\u001b[0m \u001b[32m━━━━━━━━━━━━━━━━━━━━\u001b[0m\u001b[37m\u001b[0m \u001b[1m45s\u001b[0m 16ms/step - accuracy: 0.5277 - loss: 2.0732 - val_accuracy: 0.0881 - val_loss: 11.1976\n",
      "Epoch 38/100\n",
      "\u001b[1m2818/2818\u001b[0m \u001b[32m━━━━━━━━━━━━━━━━━━━━\u001b[0m\u001b[37m\u001b[0m \u001b[1m44s\u001b[0m 16ms/step - accuracy: 0.5355 - loss: 2.0437 - val_accuracy: 0.0921 - val_loss: 11.2664\n",
      "Epoch 39/100\n",
      "\u001b[1m2818/2818\u001b[0m \u001b[32m━━━━━━━━━━━━━━━━━━━━\u001b[0m\u001b[37m\u001b[0m \u001b[1m46s\u001b[0m 16ms/step - accuracy: 0.5401 - loss: 2.0149 - val_accuracy: 0.0832 - val_loss: 11.3594\n",
      "Epoch 40/100\n",
      "\u001b[1m2818/2818\u001b[0m \u001b[32m━━━━━━━━━━━━━━━━━━━━\u001b[0m\u001b[37m\u001b[0m \u001b[1m47s\u001b[0m 17ms/step - accuracy: 0.5383 - loss: 2.0114 - val_accuracy: 0.0841 - val_loss: 11.3898\n",
      "Epoch 41/100\n",
      "\u001b[1m2818/2818\u001b[0m \u001b[32m━━━━━━━━━━━━━━━━━━━━\u001b[0m\u001b[37m\u001b[0m \u001b[1m46s\u001b[0m 16ms/step - accuracy: 0.5493 - loss: 1.9671 - val_accuracy: 0.0874 - val_loss: 11.4351\n",
      "Epoch 42/100\n",
      "\u001b[1m2818/2818\u001b[0m \u001b[32m━━━━━━━━━━━━━━━━━━━━\u001b[0m\u001b[37m\u001b[0m \u001b[1m45s\u001b[0m 16ms/step - accuracy: 0.5540 - loss: 1.9469 - val_accuracy: 0.0853 - val_loss: 11.5371\n",
      "Epoch 43/100\n",
      "\u001b[1m2818/2818\u001b[0m \u001b[32m━━━━━━━━━━━━━━━━━━━━\u001b[0m\u001b[37m\u001b[0m \u001b[1m43s\u001b[0m 15ms/step - accuracy: 0.5560 - loss: 1.9360 - val_accuracy: 0.0815 - val_loss: 11.5896\n",
      "Epoch 44/100\n",
      "\u001b[1m2818/2818\u001b[0m \u001b[32m━━━━━━━━━━━━━━━━━━━━\u001b[0m\u001b[37m\u001b[0m \u001b[1m45s\u001b[0m 16ms/step - accuracy: 0.5597 - loss: 1.9150 - val_accuracy: 0.0843 - val_loss: 11.6201\n",
      "Epoch 45/100\n",
      "\u001b[1m2818/2818\u001b[0m \u001b[32m━━━━━━━━━━━━━━━━━━━━\u001b[0m\u001b[37m\u001b[0m \u001b[1m46s\u001b[0m 16ms/step - accuracy: 0.5638 - loss: 1.8990 - val_accuracy: 0.0843 - val_loss: 11.7190\n",
      "Epoch 46/100\n",
      "\u001b[1m2818/2818\u001b[0m \u001b[32m━━━━━━━━━━━━━━━━━━━━\u001b[0m\u001b[37m\u001b[0m \u001b[1m44s\u001b[0m 16ms/step - accuracy: 0.5684 - loss: 1.8781 - val_accuracy: 0.0843 - val_loss: 11.7730\n",
      "Epoch 47/100\n",
      "\u001b[1m2818/2818\u001b[0m \u001b[32m━━━━━━━━━━━━━━━━━━━━\u001b[0m\u001b[37m\u001b[0m \u001b[1m44s\u001b[0m 16ms/step - accuracy: 0.5697 - loss: 1.8671 - val_accuracy: 0.0868 - val_loss: 11.7948\n",
      "Epoch 48/100\n",
      "\u001b[1m2818/2818\u001b[0m \u001b[32m━━━━━━━━━━━━━━━━━━━━\u001b[0m\u001b[37m\u001b[0m \u001b[1m44s\u001b[0m 16ms/step - accuracy: 0.5743 - loss: 1.8423 - val_accuracy: 0.0826 - val_loss: 11.9336\n",
      "Epoch 49/100\n",
      "\u001b[1m2818/2818\u001b[0m \u001b[32m━━━━━━━━━━━━━━━━━━━━\u001b[0m\u001b[37m\u001b[0m \u001b[1m44s\u001b[0m 16ms/step - accuracy: 0.5798 - loss: 1.8237 - val_accuracy: 0.0799 - val_loss: 11.9489\n",
      "Epoch 50/100\n",
      "\u001b[1m2818/2818\u001b[0m \u001b[32m━━━━━━━━━━━━━━━━━━━━\u001b[0m\u001b[37m\u001b[0m \u001b[1m42s\u001b[0m 15ms/step - accuracy: 0.5772 - loss: 1.8205 - val_accuracy: 0.0794 - val_loss: 12.0018\n",
      "Epoch 51/100\n",
      "\u001b[1m2818/2818\u001b[0m \u001b[32m━━━━━━━━━━━━━━━━━━━━\u001b[0m\u001b[37m\u001b[0m \u001b[1m44s\u001b[0m 16ms/step - accuracy: 0.5840 - loss: 1.7919 - val_accuracy: 0.0788 - val_loss: 12.0259\n",
      "Epoch 52/100\n",
      "\u001b[1m2818/2818\u001b[0m \u001b[32m━━━━━━━━━━━━━━━━━━━━\u001b[0m\u001b[37m\u001b[0m \u001b[1m45s\u001b[0m 16ms/step - accuracy: 0.5864 - loss: 1.7890 - val_accuracy: 0.0834 - val_loss: 12.1450\n",
      "Epoch 53/100\n",
      "\u001b[1m2818/2818\u001b[0m \u001b[32m━━━━━━━━━━━━━━━━━━━━\u001b[0m\u001b[37m\u001b[0m \u001b[1m45s\u001b[0m 16ms/step - accuracy: 0.5885 - loss: 1.7719 - val_accuracy: 0.0841 - val_loss: 12.1583\n",
      "Epoch 54/100\n",
      "\u001b[1m2818/2818\u001b[0m \u001b[32m━━━━━━━━━━━━━━━━━━━━\u001b[0m\u001b[37m\u001b[0m \u001b[1m43s\u001b[0m 15ms/step - accuracy: 0.5951 - loss: 1.7494 - val_accuracy: 0.0809 - val_loss: 12.1859\n",
      "Epoch 55/100\n",
      "\u001b[1m2818/2818\u001b[0m \u001b[32m━━━━━━━━━━━━━━━━━━━━\u001b[0m\u001b[37m\u001b[0m \u001b[1m42s\u001b[0m 15ms/step - accuracy: 0.5959 - loss: 1.7402 - val_accuracy: 0.0790 - val_loss: 12.2468\n",
      "Epoch 56/100\n",
      "\u001b[1m2818/2818\u001b[0m \u001b[32m━━━━━━━━━━━━━━━━━━━━\u001b[0m\u001b[37m\u001b[0m \u001b[1m42s\u001b[0m 15ms/step - accuracy: 0.5948 - loss: 1.7392 - val_accuracy: 0.0769 - val_loss: 12.3072\n",
      "Epoch 57/100\n",
      "\u001b[1m2818/2818\u001b[0m \u001b[32m━━━━━━━━━━━━━━━━━━━━\u001b[0m\u001b[37m\u001b[0m \u001b[1m42s\u001b[0m 15ms/step - accuracy: 0.5966 - loss: 1.7289 - val_accuracy: 0.0805 - val_loss: 12.3389\n",
      "Epoch 58/100\n",
      "\u001b[1m2818/2818\u001b[0m \u001b[32m━━━━━━━━━━━━━━━━━━━━\u001b[0m\u001b[37m\u001b[0m \u001b[1m43s\u001b[0m 15ms/step - accuracy: 0.6027 - loss: 1.7049 - val_accuracy: 0.0777 - val_loss: 12.3883\n",
      "Epoch 59/100\n",
      "\u001b[1m2818/2818\u001b[0m \u001b[32m━━━━━━━━━━━━━━━━━━━━\u001b[0m\u001b[37m\u001b[0m \u001b[1m46s\u001b[0m 16ms/step - accuracy: 0.6036 - loss: 1.6910 - val_accuracy: 0.0782 - val_loss: 12.4821\n",
      "Epoch 60/100\n",
      "\u001b[1m2818/2818\u001b[0m \u001b[32m━━━━━━━━━━━━━━━━━━━━\u001b[0m\u001b[37m\u001b[0m \u001b[1m46s\u001b[0m 16ms/step - accuracy: 0.6049 - loss: 1.6910 - val_accuracy: 0.0788 - val_loss: 12.4776\n",
      "Epoch 61/100\n",
      "\u001b[1m2818/2818\u001b[0m \u001b[32m━━━━━━━━━━━━━━━━━━━━\u001b[0m\u001b[37m\u001b[0m \u001b[1m45s\u001b[0m 16ms/step - accuracy: 0.6086 - loss: 1.6807 - val_accuracy: 0.0784 - val_loss: 12.5230\n",
      "Epoch 62/100\n",
      "\u001b[1m2818/2818\u001b[0m \u001b[32m━━━━━━━━━━━━━━━━━━━━\u001b[0m\u001b[37m\u001b[0m \u001b[1m45s\u001b[0m 16ms/step - accuracy: 0.6121 - loss: 1.6597 - val_accuracy: 0.0740 - val_loss: 12.5724\n",
      "Epoch 63/100\n",
      "\u001b[1m2818/2818\u001b[0m \u001b[32m━━━━━━━━━━━━━━━━━━━━\u001b[0m\u001b[37m\u001b[0m \u001b[1m46s\u001b[0m 16ms/step - accuracy: 0.6118 - loss: 1.6576 - val_accuracy: 0.0750 - val_loss: 12.6212\n",
      "Epoch 64/100\n",
      "\u001b[1m2818/2818\u001b[0m \u001b[32m━━━━━━━━━━━━━━━━━━━━\u001b[0m\u001b[37m\u001b[0m \u001b[1m46s\u001b[0m 16ms/step - accuracy: 0.6119 - loss: 1.6541 - val_accuracy: 0.0784 - val_loss: 12.6696\n",
      "Epoch 65/100\n",
      "\u001b[1m2818/2818\u001b[0m \u001b[32m━━━━━━━━━━━━━━━━━━━━\u001b[0m\u001b[37m\u001b[0m \u001b[1m46s\u001b[0m 16ms/step - accuracy: 0.6160 - loss: 1.6393 - val_accuracy: 0.0769 - val_loss: 12.7313\n",
      "Epoch 66/100\n",
      "\u001b[1m2818/2818\u001b[0m \u001b[32m━━━━━━━━━━━━━━━━━━━━\u001b[0m\u001b[37m\u001b[0m \u001b[1m44s\u001b[0m 16ms/step - accuracy: 0.6171 - loss: 1.6284 - val_accuracy: 0.0775 - val_loss: 12.7759\n",
      "Epoch 67/100\n",
      "\u001b[1m2818/2818\u001b[0m \u001b[32m━━━━━━━━━━━━━━━━━━━━\u001b[0m\u001b[37m\u001b[0m \u001b[1m44s\u001b[0m 15ms/step - accuracy: 0.6179 - loss: 1.6235 - val_accuracy: 0.0765 - val_loss: 12.7887\n",
      "Epoch 68/100\n",
      "\u001b[1m2818/2818\u001b[0m \u001b[32m━━━━━━━━━━━━━━━━━━━━\u001b[0m\u001b[37m\u001b[0m \u001b[1m46s\u001b[0m 16ms/step - accuracy: 0.6177 - loss: 1.6247 - val_accuracy: 0.0733 - val_loss: 12.8602\n",
      "Epoch 69/100\n",
      "\u001b[1m2818/2818\u001b[0m \u001b[32m━━━━━━━━━━━━━━━━━━━━\u001b[0m\u001b[37m\u001b[0m \u001b[1m45s\u001b[0m 16ms/step - accuracy: 0.6214 - loss: 1.5983 - val_accuracy: 0.0721 - val_loss: 12.9085\n",
      "Epoch 70/100\n",
      "\u001b[1m2818/2818\u001b[0m \u001b[32m━━━━━━━━━━━━━━━━━━━━\u001b[0m\u001b[37m\u001b[0m \u001b[1m46s\u001b[0m 16ms/step - accuracy: 0.6177 - loss: 1.6033 - val_accuracy: 0.0775 - val_loss: 12.9120\n",
      "Epoch 71/100\n",
      "\u001b[1m2818/2818\u001b[0m \u001b[32m━━━━━━━━━━━━━━━━━━━━\u001b[0m\u001b[37m\u001b[0m \u001b[1m45s\u001b[0m 16ms/step - accuracy: 0.6255 - loss: 1.5906 - val_accuracy: 0.0792 - val_loss: 12.9514\n",
      "Epoch 72/100\n",
      "\u001b[1m2818/2818\u001b[0m \u001b[32m━━━━━━━━━━━━━━━━━━━━\u001b[0m\u001b[37m\u001b[0m \u001b[1m44s\u001b[0m 16ms/step - accuracy: 0.6291 - loss: 1.5717 - val_accuracy: 0.0767 - val_loss: 12.9828\n",
      "Epoch 73/100\n",
      "\u001b[1m2818/2818\u001b[0m \u001b[32m━━━━━━━━━━━━━━━━━━━━\u001b[0m\u001b[37m\u001b[0m \u001b[1m47s\u001b[0m 17ms/step - accuracy: 0.6254 - loss: 1.5843 - val_accuracy: 0.0752 - val_loss: 13.0157\n",
      "Epoch 74/100\n",
      "\u001b[1m2818/2818\u001b[0m \u001b[32m━━━━━━━━━━━━━━━━━━━━\u001b[0m\u001b[37m\u001b[0m \u001b[1m46s\u001b[0m 16ms/step - accuracy: 0.6261 - loss: 1.5813 - val_accuracy: 0.0744 - val_loss: 13.1221\n",
      "Epoch 75/100\n",
      "\u001b[1m2818/2818\u001b[0m \u001b[32m━━━━━━━━━━━━━━━━━━━━\u001b[0m\u001b[37m\u001b[0m \u001b[1m45s\u001b[0m 16ms/step - accuracy: 0.6282 - loss: 1.5760 - val_accuracy: 0.0763 - val_loss: 13.0638\n",
      "Epoch 76/100\n",
      "\u001b[1m2818/2818\u001b[0m \u001b[32m━━━━━━━━━━━━━━━━━━━━\u001b[0m\u001b[37m\u001b[0m \u001b[1m47s\u001b[0m 17ms/step - accuracy: 0.6315 - loss: 1.5567 - val_accuracy: 0.0786 - val_loss: 13.1609\n",
      "Epoch 77/100\n",
      "\u001b[1m2818/2818\u001b[0m \u001b[32m━━━━━━━━━━━━━━━━━━━━\u001b[0m\u001b[37m\u001b[0m \u001b[1m46s\u001b[0m 16ms/step - accuracy: 0.6307 - loss: 1.5631 - val_accuracy: 0.0725 - val_loss: 13.2068\n",
      "Epoch 78/100\n",
      "\u001b[1m2818/2818\u001b[0m \u001b[32m━━━━━━━━━━━━━━━━━━━━\u001b[0m\u001b[37m\u001b[0m \u001b[1m46s\u001b[0m 16ms/step - accuracy: 0.6327 - loss: 1.5482 - val_accuracy: 0.0746 - val_loss: 13.2300\n",
      "Epoch 79/100\n",
      "\u001b[1m2818/2818\u001b[0m \u001b[32m━━━━━━━━━━━━━━━━━━━━\u001b[0m\u001b[37m\u001b[0m \u001b[1m47s\u001b[0m 17ms/step - accuracy: 0.6324 - loss: 1.5493 - val_accuracy: 0.0744 - val_loss: 13.2764\n",
      "Epoch 80/100\n",
      "\u001b[1m2818/2818\u001b[0m \u001b[32m━━━━━━━━━━━━━━━━━━━━\u001b[0m\u001b[37m\u001b[0m \u001b[1m45s\u001b[0m 16ms/step - accuracy: 0.6345 - loss: 1.5406 - val_accuracy: 0.0725 - val_loss: 13.3152\n",
      "Epoch 81/100\n",
      "\u001b[1m2818/2818\u001b[0m \u001b[32m━━━━━━━━━━━━━━━━━━━━\u001b[0m\u001b[37m\u001b[0m \u001b[1m46s\u001b[0m 16ms/step - accuracy: 0.6350 - loss: 1.5362 - val_accuracy: 0.0752 - val_loss: 13.3798\n",
      "Epoch 82/100\n",
      "\u001b[1m2818/2818\u001b[0m \u001b[32m━━━━━━━━━━━━━━━━━━━━\u001b[0m\u001b[37m\u001b[0m \u001b[1m45s\u001b[0m 16ms/step - accuracy: 0.6376 - loss: 1.5281 - val_accuracy: 0.0750 - val_loss: 13.3461\n",
      "Epoch 83/100\n",
      "\u001b[1m2818/2818\u001b[0m \u001b[32m━━━━━━━━━━━━━━━━━━━━\u001b[0m\u001b[37m\u001b[0m \u001b[1m47s\u001b[0m 17ms/step - accuracy: 0.6372 - loss: 1.5263 - val_accuracy: 0.0744 - val_loss: 13.4211\n",
      "Epoch 84/100\n",
      "\u001b[1m2818/2818\u001b[0m \u001b[32m━━━━━━━━━━━━━━━━━━━━\u001b[0m\u001b[37m\u001b[0m \u001b[1m43s\u001b[0m 15ms/step - accuracy: 0.6354 - loss: 1.5258 - val_accuracy: 0.0769 - val_loss: 13.4062\n",
      "Epoch 85/100\n",
      "\u001b[1m2818/2818\u001b[0m \u001b[32m━━━━━━━━━━━━━━━━━━━━\u001b[0m\u001b[37m\u001b[0m \u001b[1m43s\u001b[0m 15ms/step - accuracy: 0.6388 - loss: 1.5180 - val_accuracy: 0.0775 - val_loss: 13.4648\n",
      "Epoch 86/100\n",
      "\u001b[1m2818/2818\u001b[0m \u001b[32m━━━━━━━━━━━━━━━━━━━━\u001b[0m\u001b[37m\u001b[0m \u001b[1m41s\u001b[0m 15ms/step - accuracy: 0.6384 - loss: 1.5172 - val_accuracy: 0.0799 - val_loss: 13.4651\n",
      "Epoch 87/100\n",
      "\u001b[1m2818/2818\u001b[0m \u001b[32m━━━━━━━━━━━━━━━━━━━━\u001b[0m\u001b[37m\u001b[0m \u001b[1m42s\u001b[0m 15ms/step - accuracy: 0.6361 - loss: 1.5182 - val_accuracy: 0.0742 - val_loss: 13.5433\n",
      "Epoch 88/100\n",
      "\u001b[1m2818/2818\u001b[0m \u001b[32m━━━━━━━━━━━━━━━━━━━━\u001b[0m\u001b[37m\u001b[0m \u001b[1m43s\u001b[0m 15ms/step - accuracy: 0.6382 - loss: 1.5095 - val_accuracy: 0.0737 - val_loss: 13.6122\n",
      "Epoch 89/100\n",
      "\u001b[1m2818/2818\u001b[0m \u001b[32m━━━━━━━━━━━━━━━━━━━━\u001b[0m\u001b[37m\u001b[0m \u001b[1m42s\u001b[0m 15ms/step - accuracy: 0.6448 - loss: 1.4914 - val_accuracy: 0.0752 - val_loss: 13.6058\n",
      "Epoch 90/100\n",
      "\u001b[1m2818/2818\u001b[0m \u001b[32m━━━━━━━━━━━━━━━━━━━━\u001b[0m\u001b[37m\u001b[0m \u001b[1m41s\u001b[0m 14ms/step - accuracy: 0.6418 - loss: 1.4963 - val_accuracy: 0.0777 - val_loss: 13.6330\n",
      "Epoch 91/100\n",
      "\u001b[1m2818/2818\u001b[0m \u001b[32m━━━━━━━━━━━━━━━━━━━━\u001b[0m\u001b[37m\u001b[0m \u001b[1m42s\u001b[0m 15ms/step - accuracy: 0.6408 - loss: 1.4928 - val_accuracy: 0.0737 - val_loss: 13.6156\n",
      "Epoch 92/100\n",
      "\u001b[1m2818/2818\u001b[0m \u001b[32m━━━━━━━━━━━━━━━━━━━━\u001b[0m\u001b[37m\u001b[0m \u001b[1m44s\u001b[0m 15ms/step - accuracy: 0.6457 - loss: 1.4827 - val_accuracy: 0.0786 - val_loss: 13.6955\n",
      "Epoch 93/100\n",
      "\u001b[1m2818/2818\u001b[0m \u001b[32m━━━━━━━━━━━━━━━━━━━━\u001b[0m\u001b[37m\u001b[0m \u001b[1m41s\u001b[0m 15ms/step - accuracy: 0.6409 - loss: 1.4890 - val_accuracy: 0.0712 - val_loss: 13.7012\n",
      "Epoch 94/100\n",
      "\u001b[1m2818/2818\u001b[0m \u001b[32m━━━━━━━━━━━━━━━━━━━━\u001b[0m\u001b[37m\u001b[0m \u001b[1m42s\u001b[0m 15ms/step - accuracy: 0.6446 - loss: 1.4764 - val_accuracy: 0.0712 - val_loss: 13.6881\n",
      "Epoch 95/100\n",
      "\u001b[1m2818/2818\u001b[0m \u001b[32m━━━━━━━━━━━━━━━━━━━━\u001b[0m\u001b[37m\u001b[0m \u001b[1m43s\u001b[0m 15ms/step - accuracy: 0.6441 - loss: 1.4767 - val_accuracy: 0.0712 - val_loss: 13.7917\n",
      "Epoch 96/100\n",
      "\u001b[1m2818/2818\u001b[0m \u001b[32m━━━━━━━━━━━━━━━━━━━━\u001b[0m\u001b[37m\u001b[0m \u001b[1m42s\u001b[0m 15ms/step - accuracy: 0.6472 - loss: 1.4728 - val_accuracy: 0.0737 - val_loss: 13.7347\n",
      "Epoch 97/100\n",
      "\u001b[1m2818/2818\u001b[0m \u001b[32m━━━━━━━━━━━━━━━━━━━━\u001b[0m\u001b[37m\u001b[0m \u001b[1m44s\u001b[0m 15ms/step - accuracy: 0.6483 - loss: 1.4629 - val_accuracy: 0.0759 - val_loss: 13.8328\n",
      "Epoch 98/100\n",
      "\u001b[1m2818/2818\u001b[0m \u001b[32m━━━━━━━━━━━━━━━━━━━━\u001b[0m\u001b[37m\u001b[0m \u001b[1m44s\u001b[0m 16ms/step - accuracy: 0.6440 - loss: 1.4784 - val_accuracy: 0.0710 - val_loss: 13.8793\n",
      "Epoch 99/100\n",
      "\u001b[1m2818/2818\u001b[0m \u001b[32m━━━━━━━━━━━━━━━━━━━━\u001b[0m\u001b[37m\u001b[0m \u001b[1m43s\u001b[0m 15ms/step - accuracy: 0.6474 - loss: 1.4528 - val_accuracy: 0.0740 - val_loss: 13.9093\n",
      "Epoch 100/100\n",
      "\u001b[1m2818/2818\u001b[0m \u001b[32m━━━━━━━━━━━━━━━━━━━━\u001b[0m\u001b[37m\u001b[0m \u001b[1m44s\u001b[0m 16ms/step - accuracy: 0.6494 - loss: 1.4576 - val_accuracy: 0.0691 - val_loss: 13.9214\n"
     ]
    }
   ],
   "source": [
    "# Train the model\n",
    "history = model3.fit(X, y, epochs=100,validation_split=0.05, verbose=1).history"
   ]
  },
  {
   "cell_type": "markdown",
   "id": "68a692a0",
   "metadata": {},
   "source": [
    "### Save Model after training "
   ]
  },
  {
   "cell_type": "code",
   "execution_count": 16,
   "id": "4471b803",
   "metadata": {},
   "outputs": [
    {
     "name": "stderr",
     "output_type": "stream",
     "text": [
      "WARNING:absl:You are saving your model as an HDF5 file via `model.save()` or `keras.saving.save_model(model)`. This file format is considered legacy. We recommend using instead the native Keras format, e.g. `model.save('my_model.keras')` or `keras.saving.save_model(model, 'my_model.keras')`. \n"
     ]
    },
    {
     "name": "stdout",
     "output_type": "stream",
     "text": [
      "Model saved as lstm_model3.h5\n"
     ]
    }
   ],
   "source": [
    "# Save the model after training \n",
    "model3.save('lstm_model3.h5') \n",
    "print(\"Model saved as lstm_model3.h5\")"
   ]
  },
  {
   "cell_type": "markdown",
   "id": "e01a0746",
   "metadata": {},
   "source": [
    "### Load Saved model 3 "
   ]
  },
  {
   "cell_type": "code",
   "execution_count": 17,
   "id": "31cf781e",
   "metadata": {},
   "outputs": [
    {
     "name": "stderr",
     "output_type": "stream",
     "text": [
      "WARNING:absl:Compiled the loaded model, but the compiled metrics have yet to be built. `model.compile_metrics` will be empty until you train or evaluate the model.\n"
     ]
    }
   ],
   "source": [
    "# load saved model \n",
    "from tensorflow.keras.models import load_model\n",
    "loaded_model3 = load_model('lstm_model3.h5')"
   ]
  },
  {
   "cell_type": "markdown",
   "id": "0290d349",
   "metadata": {},
   "source": [
    "### Save History for model 3"
   ]
  },
  {
   "cell_type": "code",
   "execution_count": 18,
   "id": "7ee4c639",
   "metadata": {},
   "outputs": [],
   "source": [
    "pickle.dump(history, open(\"history3.p\", \"wb\"))"
   ]
  },
  {
   "cell_type": "markdown",
   "id": "7e0dbc6d",
   "metadata": {},
   "source": [
    "### Load History for model 3"
   ]
  },
  {
   "cell_type": "code",
   "execution_count": 19,
   "id": "25583e4a",
   "metadata": {},
   "outputs": [],
   "source": [
    "history3 = pickle.load(open(\"history3.p\", \"rb\"))"
   ]
  },
  {
   "cell_type": "code",
   "execution_count": null,
   "id": "175c7d11",
   "metadata": {},
   "outputs": [],
   "source": [
    "### Plot History - Accuracy vs Epochs  for model 3"
   ]
  },
  {
   "cell_type": "code",
   "execution_count": 20,
   "id": "efa4f712",
   "metadata": {},
   "outputs": [
    {
     "data": {
      "text/plain": [
       "<matplotlib.legend.Legend at 0x33c596fb0>"
      ]
     },
     "execution_count": 20,
     "metadata": {},
     "output_type": "execute_result"
    },
    {
     "data": {
      "image/png": "[encoded data removed]",
      "text/plain": [
       "<Figure size 640x480 with 1 Axes>"
      ]
     },
     "metadata": {},
     "output_type": "display_data"
    }
   ],
   "source": [
    "plt.plot(history3['accuracy'])\n",
    "plt.plot(history3['val_accuracy'])\n",
    "plt.title('model accuracy')\n",
    "plt.ylabel('accuracy')\n",
    "plt.xlabel('epoch')\n",
    "plt.legend(['train', 'test'], loc='upper left')\n"
   ]
  },
  {
   "cell_type": "code",
   "execution_count": null,
   "id": "80ecd2d6",
   "metadata": {},
   "outputs": [],
   "source": [
    "### Plot Loss Vs Epochs for model 3"
   ]
  },
  {
   "cell_type": "code",
   "execution_count": 21,
   "id": "ef65865c",
   "metadata": {},
   "outputs": [
    {
     "data": {
      "text/plain": [
       "<matplotlib.legend.Legend at 0x33c65a8c0>"
      ]
     },
     "execution_count": 21,
     "metadata": {},
     "output_type": "execute_result"
    },
    {
     "data": {
      "image/png": "[encoded data removed]",
      "text/plain": [
       "<Figure size 640x480 with 1 Axes>"
      ]
     },
     "metadata": {},
     "output_type": "display_data"
    }
   ],
   "source": [
    "plt.plot(history3['loss'])\n",
    "plt.plot(history3['val_loss'])\n",
    "plt.title('model loss')\n",
    "plt.ylabel('loss')\n",
    "plt.xlabel('epoch')\n",
    "plt.legend(['train', 'test'], loc='upper left')"
   ]
  },
  {
   "cell_type": "markdown",
   "id": "3e4b8924",
   "metadata": {},
   "source": [
    "## Section 6:    Predict next set of words \n",
    "\n",
    "\n",
    "The code is explained below \n",
    "\n",
    "\n",
    "**Initial set up**\n",
    "\n",
    "- `seed_text:` This is the initial starting text (or prompt) from which the model will generate more text. In this case, it starts with \"I will close the door if\".\n",
    "\n",
    "- `next_words = 5:` The variable next_words defines how many words the model will generate after the seed text. In this case, it will generate 7 new words.\n",
    "\n",
    "\n",
    "**For Loop for Word Prediction:**\n",
    "\n",
    "- A for loop is initiated to run next_words times (5 iterations). In each iteration, the model will predict one word and append it to seed_text.\n",
    "\n",
    "**Convert Seed Text to Tokens:**\n",
    "\n",
    "- `tokenizer.texts_to_sequences([seed_text]):` This function converts the seed_text into a sequence of integers (tokens) based on a previously fitted tokenizer.\n",
    "\n",
    "- For example, if the tokenizer maps the word \"I\" to 1, \"will\" to 5, \"close\" to 9, etc., then the sentence \"I will close the door if\" might be converted to something like [1, 5, 9, 12, 3, 7].\n",
    "\n",
    "\n",
    "- `[0]: The texts_to_sequences` method returns a list of lists, but since we are passing only one sentence, we access the first element using [0] to get the actual list of token IDs.\n",
    "\n",
    "\n",
    "**Pad the Sequence:**\n",
    "\n",
    "- `pad_sequences:` This function ensures that the input sequence has the same length as the expected input shape of the model. Padding is done at the beginning of the sequence (padding='pre') to match the required length.\n",
    "\n",
    "\n",
    "- `max_sequence_len-1:` The length of the padded sequence is set to one less than the max_sequence_len, which is likely the length used during training. This is necessary because the model is trained to predict the next word based on a sequence of length `max_sequence_len-1` .\n",
    "\n",
    "\n",
    "- The padding ensures that if the token_list is shorter than `max_sequence_len-1`, zeros are added at the start.\n",
    "\n",
    "**Model Prediction:**\n",
    "\n",
    "- `model.predict(token_list):` The padded token sequence is fed into the model, and the model predicts the next word.\n",
    "\n",
    "- The output of model.predict will likely be a probability distribution over all possible words in the vocabulary.\n",
    "\n",
    "\n",
    "- `np.argmax(..., axis=-1):` This extracts the index (token) of the word with the highest predicted probability. This index corresponds to the word that the model thinks is the most likely next word.\n",
    "\n",
    "\n",
    "**Find the Corresponding Word**\n",
    "\n",
    "- This loop iterates through the tokenizer's word_index dictionary, which contains the mapping of words to their corresponding token indices.\n",
    "\n",
    "- `if index == predicted`: This checks if the token index from the word_index matches the predicted token (the one the model predicted).\n",
    "\n",
    "- `output_word = word:` If a match is found, the corresponding word is stored in output_word.\n",
    "This step essentially translates the predicted token back into a human-readable word.\n",
    "\n",
    "\n",
    "\n",
    "**Update Seed Text:**\n",
    "\n",
    "- The predicted word (output_word) is appended to the original seed_text. This updated seed_text now becomes the input for the next iteration of the loop.\n",
    "\n",
    "- After each iteration, the model will generate the next word based on the newly updated seed_text, and this process continues for next_words iterations."
   ]
  },
  {
   "cell_type": "code",
   "execution_count": 28,
   "id": "7a04a65d",
   "metadata": {},
   "outputs": [
    {
     "name": "stdout",
     "output_type": "stream",
     "text": [
      "\u001b[1m1/1\u001b[0m \u001b[32m━━━━━━━━━━━━━━━━━━━━\u001b[0m\u001b[37m\u001b[0m \u001b[1m0s\u001b[0m 11ms/step\n",
      "\u001b[1m1/1\u001b[0m \u001b[32m━━━━━━━━━━━━━━━━━━━━\u001b[0m\u001b[37m\u001b[0m \u001b[1m0s\u001b[0m 11ms/step\n",
      "\u001b[1m1/1\u001b[0m \u001b[32m━━━━━━━━━━━━━━━━━━━━\u001b[0m\u001b[37m\u001b[0m \u001b[1m0s\u001b[0m 9ms/step\n",
      "\u001b[1m1/1\u001b[0m \u001b[32m━━━━━━━━━━━━━━━━━━━━\u001b[0m\u001b[37m\u001b[0m \u001b[1m0s\u001b[0m 10ms/step\n",
      "\u001b[1m1/1\u001b[0m \u001b[32m━━━━━━━━━━━━━━━━━━━━\u001b[0m\u001b[37m\u001b[0m \u001b[1m0s\u001b[0m 10ms/step\n"
     ]
    }
   ],
   "source": [
    "# Determine a text\n",
    "seed_text = \"I will come\"\n",
    "# Predict word number\n",
    "next_words = 5\n",
    "\n",
    "for _ in range(next_words):\n",
    "    # Convert seed_text to token\n",
    "    token_list = tokenizer.texts_to_sequences([seed_text])[0]\n",
    "    # Pad sequences to match input shape\n",
    "    token_list = pad_sequences([token_list], maxlen=max_sequence_len-1, padding='pre')\n",
    "    # Model prediction\n",
    "    predicted = np.argmax(loaded_model3.predict(token_list), axis=-1)\n",
    "    output_word = \"\"\n",
    "    # Get the predicted word from the tokenizer's word_index\n",
    "    for word, index in tokenizer.word_index.items():\n",
    "        if index == predicted:\n",
    "            output_word = word\n",
    "            break\n",
    "    # Append the predicted word to the seed text\n",
    "    seed_text += \" \" + output_word\n"
   ]
  },
  {
   "cell_type": "code",
   "execution_count": 29,
   "id": "2df8bed6",
   "metadata": {},
   "outputs": [
    {
     "name": "stdout",
     "output_type": "stream",
     "text": [
      "I will come to the house that i\n"
     ]
    }
   ],
   "source": [
    "print(seed_text)"
   ]
  },
  {
   "cell_type": "markdown",
   "id": "863b44ba",
   "metadata": {},
   "source": [
    "### End of notebook"
   ]
  }
 ],
 "metadata": {
  "kernelspec": {
   "display_name": "Python 3 (ipykernel)",
   "language": "python",
   "name": "python3"
  },
  "language_info": {
   "codemirror_mode": {
    "name": "ipython",
    "version": 3
   },
   "file_extension": ".py",
   "mimetype": "text/x-python",
   "name": "python",
   "nbconvert_exporter": "python",
   "pygments_lexer": "ipython3",
   "version": "3.10.12"
  }
 },
 "nbformat": 4,
 "nbformat_minor": 5
}
